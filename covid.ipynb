{
 "cells": [
  {
   "cell_type": "code",
   "execution_count": 3,
   "metadata": {},
   "outputs": [
    {
     "name": "stdout",
     "output_type": "stream",
     "text": [
      "Requirement already satisfied: torchxrayvision in /home/akshaya/anaconda3/lib/python3.7/site-packages (0.0.4)\n",
      "Requirement already satisfied: torch>=1 in /home/akshaya/anaconda3/lib/python3.7/site-packages (from torchxrayvision) (1.3.1)\n",
      "Requirement already satisfied: scikit-image>=0.16 in /home/akshaya/anaconda3/lib/python3.7/site-packages (from torchxrayvision) (0.16.2)\n",
      "Requirement already satisfied: tqdm>=4 in /home/akshaya/anaconda3/lib/python3.7/site-packages (from torchxrayvision) (4.44.1)\n",
      "Requirement already satisfied: torchvision>=0.5 in /home/akshaya/anaconda3/lib/python3.7/site-packages (from torchxrayvision) (0.5.0)\n",
      "Requirement already satisfied: numpy>=1 in /home/akshaya/anaconda3/lib/python3.7/site-packages (from torchxrayvision) (1.18.1)\n",
      "Requirement already satisfied: pandas>=1 in /home/akshaya/anaconda3/lib/python3.7/site-packages (from torchxrayvision) (1.0.3)\n",
      "Requirement already satisfied: pillow>=4.3.0 in /home/akshaya/anaconda3/lib/python3.7/site-packages (from scikit-image>=0.16->torchxrayvision) (7.0.0)\n",
      "Requirement already satisfied: matplotlib!=3.0.0,>=2.0.0 in /home/akshaya/anaconda3/lib/python3.7/site-packages (from scikit-image>=0.16->torchxrayvision) (3.1.3)\n",
      "Requirement already satisfied: imageio>=2.3.0 in /home/akshaya/anaconda3/lib/python3.7/site-packages (from scikit-image>=0.16->torchxrayvision) (2.5.0)\n",
      "Requirement already satisfied: scipy>=0.19.0 in /home/akshaya/anaconda3/lib/python3.7/site-packages (from scikit-image>=0.16->torchxrayvision) (1.4.1)\n",
      "Requirement already satisfied: networkx>=2.0 in /home/akshaya/anaconda3/lib/python3.7/site-packages (from scikit-image>=0.16->torchxrayvision) (2.3)\n",
      "Requirement already satisfied: PyWavelets>=0.4.0 in /home/akshaya/anaconda3/lib/python3.7/site-packages (from scikit-image>=0.16->torchxrayvision) (1.0.3)\n",
      "Requirement already satisfied: six in /home/akshaya/anaconda3/lib/python3.7/site-packages (from torchvision>=0.5->torchxrayvision) (1.14.0)\n",
      "Requirement already satisfied: pytz>=2017.2 in /home/akshaya/anaconda3/lib/python3.7/site-packages (from pandas>=1->torchxrayvision) (2019.3)\n",
      "Requirement already satisfied: python-dateutil>=2.6.1 in /home/akshaya/anaconda3/lib/python3.7/site-packages (from pandas>=1->torchxrayvision) (2.8.1)\n",
      "Requirement already satisfied: cycler>=0.10 in /home/akshaya/anaconda3/lib/python3.7/site-packages (from matplotlib!=3.0.0,>=2.0.0->scikit-image>=0.16->torchxrayvision) (0.10.0)\n",
      "Requirement already satisfied: pyparsing!=2.0.4,!=2.1.2,!=2.1.6,>=2.0.1 in /home/akshaya/anaconda3/lib/python3.7/site-packages (from matplotlib!=3.0.0,>=2.0.0->scikit-image>=0.16->torchxrayvision) (2.4.6)\n",
      "Requirement already satisfied: kiwisolver>=1.0.1 in /home/akshaya/anaconda3/lib/python3.7/site-packages (from matplotlib!=3.0.0,>=2.0.0->scikit-image>=0.16->torchxrayvision) (1.1.0)\n",
      "Requirement already satisfied: decorator>=4.3.0 in /home/akshaya/anaconda3/lib/python3.7/site-packages (from networkx>=2.0->scikit-image>=0.16->torchxrayvision) (4.4.2)\n",
      "Requirement already satisfied: setuptools in /home/akshaya/anaconda3/lib/python3.7/site-packages (from kiwisolver>=1.0.1->matplotlib!=3.0.0,>=2.0.0->scikit-image>=0.16->torchxrayvision) (46.1.3.post20200330)\n"
     ]
    }
   ],
   "source": [
    "!pip install torchxrayvision"
   ]
  },
  {
   "cell_type": "code",
   "execution_count": 55,
   "metadata": {},
   "outputs": [],
   "source": [
    "from glob import glob\n",
    "import matplotlib.pyplot as plt\n",
    "import numpy as np\n",
    "import torch\n",
    "import torchvision\n",
    "import torchxrayvision as xrv\n",
    "from torch.utils.data.sampler import SubsetRandomSampler"
   ]
  },
  {
   "cell_type": "code",
   "execution_count": 56,
   "metadata": {},
   "outputs": [],
   "source": [
    "transform = torchvision.transforms.Compose([xrv.datasets.XRayCenterCrop(),\n",
    "                                            xrv.datasets.XRayResizer(224)])\n",
    "\n",
    "\n",
    "d_covid19 = xrv.datasets.COVID19_Dataset(imgpath=\"covid-chestxray-dataset/images/\",\n",
    "                                   csvpath=\"covid-chestxray-dataset/metadata.csv\",\n",
    "                                   transform=transform)"
   ]
  },
  {
   "cell_type": "code",
   "execution_count": 57,
   "metadata": {},
   "outputs": [
    {
     "data": {
      "text/plain": [
       "(1, 224, 224)"
      ]
     },
     "execution_count": 57,
     "metadata": {},
     "output_type": "execute_result"
    }
   ],
   "source": [
    "d_covid19[0]['PA'].shape"
   ]
  },
  {
   "cell_type": "code",
   "execution_count": 4,
   "metadata": {},
   "outputs": [
    {
     "name": "stdout",
     "output_type": "stream",
     "text": [
      "(224, 224)\n",
      "patientid                                                                 2\n",
      "offset                                                                    0\n",
      "sex                                                                       M\n",
      "age                                                                      65\n",
      "finding                                                            COVID-19\n",
      "survival                                                                  Y\n",
      "intubated                                                               NaN\n",
      "went_icu                                                                NaN\n",
      "needed_supplemental_O2                                                  NaN\n",
      "extubated                                                               NaN\n",
      "temperature                                                             NaN\n",
      "pO2_saturation                                                          NaN\n",
      "leukocyte_count                                                         NaN\n",
      "neutrophil_count                                                        NaN\n",
      "lymphocyte_count                                                        NaN\n",
      "view                                                                     PA\n",
      "modality                                                              X-ray\n",
      "date                                                       January 22, 2020\n",
      "location                        Cho Ray Hospital, Ho Chi Minh City, Vietnam\n",
      "folder                                                               images\n",
      "filename                  auntminnie-a-2020_01_28_23_51_6665_2020_01_28_...\n",
      "doi                                                    10.1056/nejmc2001272\n",
      "url                       https://www.nejm.org/doi/full/10.1056/NEJMc200...\n",
      "license                                                                 NaN\n",
      "clinical_notes                infiltrate in the upper lobe of the left lung\n",
      "other_notes                                                             NaN\n",
      "Unnamed: 26                                                             NaN\n",
      "Name: 0, dtype: object\n"
     ]
    }
   ],
   "source": [
    "print(d_covid19[0][\"PA\"][0].shape)\n",
    "print(d_covid19.csv.iloc[0])"
   ]
  },
  {
   "cell_type": "code",
   "execution_count": 5,
   "metadata": {},
   "outputs": [
    {
     "data": {
      "text/plain": [
       "{'ARDS': 0.0,\n",
       " 'Bacterial Pneumonia': 0.0,\n",
       " 'COVID-19': 1.0,\n",
       " 'Chlamydophila': 0.0,\n",
       " 'Fungal Pneumonia': 0.0,\n",
       " 'Klebsiella': 0.0,\n",
       " 'Legionella': 0.0,\n",
       " 'MERS': 0.0,\n",
       " 'No Finding': 0.0,\n",
       " 'Pneumocystis': 0.0,\n",
       " 'Pneumonia': 1.0,\n",
       " 'SARS': 0.0,\n",
       " 'Streptococcus': 0.0,\n",
       " 'Viral Pneumonia': 1.0}"
      ]
     },
     "execution_count": 5,
     "metadata": {},
     "output_type": "execute_result"
    },
    {
     "data": {
      "image/png": "[encoded data removed]",
      "text/plain": [
       "<Figure size 432x288 with 1 Axes>"
      ]
     },
     "metadata": {
      "needs_background": "light"
     },
     "output_type": "display_data"
    }
   ],
   "source": [
    "sample = d_covid19[0]\n",
    "plt.imshow(sample[\"PA\"][0], cmap=\"Greys_r\");\n",
    "dict(zip(d_covid19.pathologies,sample[\"lab\"]))"
   ]
  },
  {
   "cell_type": "code",
   "execution_count": 6,
   "metadata": {},
   "outputs": [],
   "source": [
    "dataset = []\n",
    "\n",
    "for data in d_covid19:\n",
    "    image = data[\"PA\"][0]\n",
    "    label = data[\"lab\"][2]\n",
    "    dataset.append((image, label))"
   ]
  },
  {
   "cell_type": "code",
   "execution_count": 7,
   "metadata": {},
   "outputs": [
    {
     "data": {
      "text/plain": [
       "177"
      ]
     },
     "execution_count": 7,
     "metadata": {},
     "output_type": "execute_result"
    }
   ],
   "source": [
    "len(dataset)"
   ]
  },
  {
   "cell_type": "code",
   "execution_count": 8,
   "metadata": {},
   "outputs": [],
   "source": [
    "batch_size = 5\n",
    "validation_split = .2\n",
    "shuffle_dataset = True\n",
    "random_seed= 420\n",
    "\n",
    "# Creating data indices for training and validation splits:\n",
    "dataset_size = len(dataset)\n",
    "indices = list(range(dataset_size))\n",
    "split = int(np.floor(validation_split * dataset_size))\n",
    "if shuffle_dataset :\n",
    "    np.random.seed(random_seed)\n",
    "    np.random.shuffle(indices)\n",
    "train_indices, val_indices = indices[split:], indices[:split]"
   ]
  },
  {
   "cell_type": "code",
   "execution_count": 9,
   "metadata": {},
   "outputs": [],
   "source": [
    "# Creating data samplers:\n",
    "train_sampler = SubsetRandomSampler(train_indices)\n",
    "valid_sampler = SubsetRandomSampler(val_indices)"
   ]
  },
  {
   "cell_type": "code",
   "execution_count": 81,
   "metadata": {},
   "outputs": [],
   "source": [
    "# Creating data loaders:\n",
    "train_loader = torch.utils.data.DataLoader(dataset, batch_size=batch_size, \n",
    "                                           sampler=train_sampler,\n",
    "                                           num_workers=2)\n",
    "validation_loader = torch.utils.data.DataLoader(dataset, batch_size=batch_size,\n",
    "                                                sampler=valid_sampler, \n",
    "                                                num_workers=2)"
   ]
  },
  {
   "cell_type": "code",
   "execution_count": 107,
   "metadata": {},
   "outputs": [
    {
     "name": "stdout",
     "output_type": "stream",
     "text": [
      "torch.Size([5, 1, 224, 224])\n"
     ]
    }
   ],
   "source": [
    "for images, labels in train_loader:\n",
    "    img = images.unsqueeze(1)\n",
    "    print(img.shape)\n",
    "    break"
   ]
  },
  {
   "cell_type": "code",
   "execution_count": 142,
   "metadata": {},
   "outputs": [],
   "source": [
    "import torch.nn as nn\n",
    "import torch.optim as optim\n",
    "import torch.nn.functional as F\n",
    "from torch.autograd import Variable\n",
    "from torch.nn import Linear, ReLU, CrossEntropyLoss, Sequential, Conv2d, MaxPool2d, Module, Softmax, BatchNorm2d, Dropout\n",
    "from torch.optim import AdamW, SGD\n",
    "\n",
    "### Have to change the layers and their arguments\n",
    "class XRayNet(nn.Module):\n",
    "    def __init__(self):\n",
    "        super(XRayNet, self).__init__()\n",
    "        \n",
    "        # input image size 3, 224, 224\n",
    "        self.conv1 = nn.Conv2d(1, 32, (3, 3))\n",
    "        self.batch1 = nn.BatchNorm2d(32, affine=True, track_running_stats=True)\n",
    "        \n",
    "        # image size 8, 112, 112\n",
    "        self.conv2 = nn.Conv2d(32, 56, 3, stride = 1, padding = 1)\n",
    "        self.batch2 = nn.BatchNorm2d(56, affine=True, track_running_stats=True)\n",
    "        \n",
    "        # image size 16, 56, 56\n",
    "        self.conv3 = nn.Conv2d(56, 64, 3, stride = 1, padding = 1)\n",
    "        self.batch3 = nn.BatchNorm2d(64, affine=True, track_running_stats=True)\n",
    "        \n",
    "        self.conv4 = nn.Conv2d(64, 64, 3, stride = 1, padding = 1)\n",
    "        self.batch4 = nn.BatchNorm2d(64, affine=True, track_running_stats=True)\n",
    "        \n",
    "        self.pool = nn.MaxPool2d(2, 2)\n",
    "        \n",
    "        # input size 32, 28, 28\n",
    "        self.fc1 = nn.Linear(64 * 13 * 13, 4096)\n",
    "        self.fc2 = nn.Linear(4096, 512)\n",
    "        self.fc3 = nn.Linear(512, 64)\n",
    "        self.fc4 = nn.Linear(64, 2)\n",
    "        \n",
    "        self.batch5 = nn.BatchNorm1d(512)\n",
    "        self.batch6 = nn.BatchNorm1d(64)\n",
    "        \n",
    "        self.drop = nn.Dropout(p=.3)\n",
    "        self.softmax = nn.Softmax(dim=1)\n",
    "        \n",
    "    def forward(self, x):\n",
    "        \n",
    "        x = self.conv1(x)\n",
    "        x = self.pool(self.batch1(x))\n",
    "        \n",
    "        x = F.relu(self.conv2(x), inplace=True)\n",
    "        x = self.pool(self.batch2(x))\n",
    "        x = self.drop(x)\n",
    "        \n",
    "        x = F.relu(self.conv3(x), inplace=True)\n",
    "        x = self.pool(self.batch3(x))\n",
    "        x = self.drop(x)\n",
    "        \n",
    "        x = F.relu(self.conv4(x), inplace=True)\n",
    "        x = self.pool(self.batch4(x))\n",
    "        \n",
    "        x = x.view(-1, 64 * 13 * 13)\n",
    "        \n",
    "        x = self.fc1(x)\n",
    "        x = self.drop(x)\n",
    "        x = F.relu(self.fc2(x))\n",
    "        x = self.batch5(x)\n",
    "        x = self.drop(x)\n",
    "        x = F.relu(self.fc3(x))\n",
    "        x = self.batch6(x)\n",
    "        x = self.drop(x)\n",
    "        x = self.softmax(self.fc4(x))\n",
    "        \n",
    "        return x"
   ]
  },
  {
   "cell_type": "code",
   "execution_count": 143,
   "metadata": {},
   "outputs": [
    {
     "name": "stdout",
     "output_type": "stream",
     "text": [
      "XRayNet(\n",
      "  (conv1): Conv2d(1, 32, kernel_size=(3, 3), stride=(1, 1))\n",
      "  (batch1): BatchNorm2d(32, eps=1e-05, momentum=0.1, affine=True, track_running_stats=True)\n",
      "  (conv2): Conv2d(32, 56, kernel_size=(3, 3), stride=(1, 1), padding=(1, 1))\n",
      "  (batch2): BatchNorm2d(56, eps=1e-05, momentum=0.1, affine=True, track_running_stats=True)\n",
      "  (conv3): Conv2d(56, 64, kernel_size=(3, 3), stride=(1, 1), padding=(1, 1))\n",
      "  (batch3): BatchNorm2d(64, eps=1e-05, momentum=0.1, affine=True, track_running_stats=True)\n",
      "  (conv4): Conv2d(64, 64, kernel_size=(3, 3), stride=(1, 1), padding=(1, 1))\n",
      "  (batch4): BatchNorm2d(64, eps=1e-05, momentum=0.1, affine=True, track_running_stats=True)\n",
      "  (pool): MaxPool2d(kernel_size=2, stride=2, padding=0, dilation=1, ceil_mode=False)\n",
      "  (fc1): Linear(in_features=10816, out_features=4096, bias=True)\n",
      "  (fc2): Linear(in_features=4096, out_features=512, bias=True)\n",
      "  (fc3): Linear(in_features=512, out_features=64, bias=True)\n",
      "  (fc4): Linear(in_features=64, out_features=2, bias=True)\n",
      "  (batch5): BatchNorm1d(512, eps=1e-05, momentum=0.1, affine=True, track_running_stats=True)\n",
      "  (batch6): BatchNorm1d(64, eps=1e-05, momentum=0.1, affine=True, track_running_stats=True)\n",
      "  (drop): Dropout(p=0.3, inplace=False)\n",
      "  (softmax): Softmax(dim=1)\n",
      ")\n",
      "28\n",
      "The model has 46,524,394 trainable parameters\n"
     ]
    }
   ],
   "source": [
    "# defining the model\n",
    "model = XRayNet()\n",
    "\n",
    "print(model)\n",
    "print(len(list(model.parameters())))\n",
    "    \n",
    "def count_parameters(model):\n",
    "    return sum(p.numel() for p in model.parameters() if p.requires_grad)\n",
    "\n",
    "print(f'The model has {count_parameters(model):,} trainable parameters')"
   ]
  },
  {
   "cell_type": "code",
   "execution_count": 144,
   "metadata": {},
   "outputs": [],
   "source": [
    "# defining the optimizer\n",
    "optimizer = optim.AdamW(model.parameters(), lr=0.001)\n",
    "\n",
    "# defining the loss function\n",
    "criterion = CrossEntropyLoss()\n",
    "\n",
    "use_cuda = False\n",
    "# checking if GPU is available\n",
    "if torch.cuda.is_available():\n",
    "    model = model.cuda()\n",
    "    criterion = criterion.cuda()\n",
    "    use_cuda = True"
   ]
  },
  {
   "cell_type": "code",
   "execution_count": 148,
   "metadata": {},
   "outputs": [
    {
     "name": "stdout",
     "output_type": "stream",
     "text": [
      "Epoch 0, train loss : 0.4870239423829957, validation loss :0.11517946834618088\n",
      "Validation loss decreased inf -> 0.11517946834618088. Saving model...\n",
      "Epoch 1, train loss : 0.5000041841113635, validation loss :0.12776686646844035\n",
      "Epoch 2, train loss : 0.4588923082176575, validation loss :0.11199563573309257\n",
      "Validation loss decreased 0.11517946834618088 -> 0.11199563573309257. Saving model...\n",
      "Epoch 3, train loss : 0.4937160727331194, validation loss :0.10700259252456622\n",
      "Validation loss decreased 0.11199563573309257 -> 0.10700259252456622. Saving model...\n",
      "Epoch 4, train loss : 0.4570568025448902, validation loss :0.12114394182539255\n",
      "Epoch 5, train loss : 0.4480858285211574, validation loss :0.11361518232835888\n",
      "Epoch 6, train loss : 0.4798572937310752, validation loss :0.1389306143852277\n",
      "Epoch 7, train loss : 0.4569245494354916, validation loss :0.12580841779708862\n",
      "Epoch 8, train loss : 0.48252487637228886, validation loss :0.12312083847105167\n",
      "Epoch 9, train loss : 0.4647807470485989, validation loss :0.11880954275023466\n",
      "Epoch 10, train loss : 0.4504322367536146, validation loss :0.11973840200294883\n",
      "Epoch 11, train loss : 0.47798166234614486, validation loss :0.13855064992850782\n",
      "Epoch 12, train loss : 0.48576721313309534, validation loss :0.11393082680675269\n",
      "Epoch 13, train loss : 0.4909256701752291, validation loss :0.11368088213737401\n",
      "Epoch 14, train loss : 0.4816181154574378, validation loss :0.1293101208021412\n",
      "Epoch 15, train loss : 0.4853226259603339, validation loss :0.12167567250418798\n",
      "Epoch 16, train loss : 0.4492795760348692, validation loss :0.12033568600476799\n",
      "Epoch 17, train loss : 0.46580901607281744, validation loss :0.11487394402929618\n",
      "Epoch 18, train loss : 0.4502403480184954, validation loss :0.11872535876635104\n",
      "Epoch 19, train loss : 0.45798667844405955, validation loss :0.11158435610728075\n",
      "Epoch 20, train loss : 0.4639959015415213, validation loss :0.10697434345881145\n",
      "Validation loss decreased 0.10700259252456622 -> 0.10697434345881145. Saving model...\n",
      "Epoch 21, train loss : 0.4462812938595896, validation loss :0.11016921219179186\n",
      "Epoch 22, train loss : 0.45375839683969144, validation loss :0.11903794892763687\n",
      "Epoch 23, train loss : 0.4345087334934601, validation loss :0.11157777854951761\n",
      "Epoch 24, train loss : 0.45195514199423925, validation loss :0.11585914145755229\n",
      "Epoch 25, train loss : 0.430777028792322, validation loss :0.11327741930713761\n",
      "Epoch 26, train loss : 0.436624308932299, validation loss :0.10513146634155747\n",
      "Validation loss decreased 0.10697434345881145 -> 0.10513146634155747. Saving model...\n",
      "Epoch 27, train loss : 0.43199161031825395, validation loss :0.1065811809510161\n",
      "Epoch 28, train loss : 0.4057286890213099, validation loss :0.10993674818405323\n",
      "Epoch 29, train loss : 0.42041111783792745, validation loss :0.1121381177740582\n"
     ]
    }
   ],
   "source": [
    "n_epoch = 30\n",
    "min_val_loss = np.Inf\n",
    "\n",
    "train_losses = []\n",
    "val_losses = []\n",
    "\n",
    "for e in range(n_epoch):\n",
    "    \n",
    "    running_loss = 0\n",
    "    val_loss = 0\n",
    "    \n",
    "    # train mode\n",
    "    for images, labels in train_loader:\n",
    "        if use_cuda:\n",
    "            images, labels = images.cuda(), labels.cuda()\n",
    "            \n",
    "        images = images.unsqueeze(1)\n",
    "        \n",
    "        # zero grad\n",
    "        optimizer.zero_grad()\n",
    "        \n",
    "        output = model(images)\n",
    "        \n",
    "        loss = criterion(output, labels.long())\n",
    "        \n",
    "        running_loss += loss.item() * images.size(0)\n",
    "        \n",
    "        loss.backward()\n",
    "        \n",
    "        optimizer.step()\n",
    "        \n",
    "    # valid mode\n",
    "    for images, labels in validation_loader:\n",
    "        if use_cuda:\n",
    "            images, labels = images.cuda(), labels.cuda()\n",
    "            \n",
    "        images = images.unsqueeze(1)\n",
    "        model.eval()\n",
    "        \n",
    "        output = model(images)\n",
    "        \n",
    "        loss = criterion(output, labels.long())\n",
    "        \n",
    "        val_loss += loss.item() * images.size(0)\n",
    "        \n",
    "    model.train()\n",
    "    \n",
    "    epoch_train_loss = running_loss / len(train_loader.dataset)\n",
    "    epoch_val_loss = val_loss / len(validation_loader.dataset)\n",
    "    print('Epoch {}, train loss : {}, validation loss :{}'.format(e, epoch_train_loss, epoch_val_loss))\n",
    "    \n",
    "    train_losses.append(epoch_train_loss)\n",
    "    val_losses.append(epoch_val_loss)\n",
    "    \n",
    "    if epoch_val_loss <= min_val_loss:\n",
    "        print('Validation loss decreased {} -> {}. Saving model...'.format(min_val_loss, epoch_val_loss))\n",
    "        min_val_loss = epoch_val_loss\n",
    "        torch.save(model.state_dict(), 'best.pth')"
   ]
  },
  {
   "cell_type": "code",
   "execution_count": 149,
   "metadata": {},
   "outputs": [],
   "source": [
    "#Loading best model\n",
    "\n",
    "XRayModel1 = XRayNet()\n",
    "XRayModel1.load_state_dict(torch.load('best.pth'))\n",
    "\n",
    "if use_cuda:\n",
    "    XRayModel1.cuda()"
   ]
  },
  {
   "cell_type": "code",
   "execution_count": null,
   "metadata": {},
   "outputs": [],
   "source": [
    "#Testing"
   ]
  },
  {
   "cell_type": "code",
   "execution_count": null,
   "metadata": {},
   "outputs": [],
   "source": []
  },
  {
   "cell_type": "code",
   "execution_count": null,
   "metadata": {},
   "outputs": [],
   "source": []
  },
  {
   "cell_type": "code",
   "execution_count": null,
   "metadata": {},
   "outputs": [],
   "source": []
  },
  {
   "cell_type": "code",
   "execution_count": null,
   "metadata": {},
   "outputs": [],
   "source": []
  },
  {
   "cell_type": "code",
   "execution_count": null,
   "metadata": {},
   "outputs": [],
   "source": []
  },
  {
   "cell_type": "code",
   "execution_count": null,
   "metadata": {},
   "outputs": [],
   "source": []
  },
  {
   "cell_type": "code",
   "execution_count": null,
   "metadata": {},
   "outputs": [],
   "source": []
  },
  {
   "cell_type": "code",
   "execution_count": null,
   "metadata": {},
   "outputs": [],
   "source": []
  },
  {
   "cell_type": "code",
   "execution_count": null,
   "metadata": {},
   "outputs": [],
   "source": []
  }
 ],
 "metadata": {
  "kernelspec": {
   "display_name": "Python 3",
   "language": "python",
   "name": "python3"
  },
  "language_info": {
   "codemirror_mode": {
    "name": "ipython",
    "version": 3
   },
   "file_extension": ".py",
   "mimetype": "text/x-python",
   "name": "python",
   "nbconvert_exporter": "python",
   "pygments_lexer": "ipython3",
   "version": "3.7.3"
  }
 },
 "nbformat": 4,
 "nbformat_minor": 2
}
